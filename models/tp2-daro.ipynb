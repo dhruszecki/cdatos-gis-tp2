{
 "cells": [
  {
   "cell_type": "code",
   "execution_count": 3,
   "metadata": {},
   "outputs": [],
   "source": [
    "import subprocess\n",
    "import glob\n",
    "import os\n",
    "import sys\n",
    "import rasterio\n",
    "from rasterio.plot import show\n",
    "from pathlib import Path\n",
    "import rasterio as rio\n",
    "from tabulate import tabulate\n",
    "\n",
    "\n",
    "base = '/home/hg_storage_one'"
   ]
  },
  {
   "cell_type": "code",
   "execution_count": 49,
   "metadata": {},
   "outputs": [
    {
     "name": "stdout",
     "output_type": "stream",
     "text": [
      "/home/hg_storage_one/images:\n",
      "\u001b[0m\u001b[01;34m20201001-20201031\u001b[0m/  \u001b[01;34m20201201-20201230\u001b[0m/  \u001b[01;34m20210220-20210316\u001b[0m/  \u001b[01;34mresults\u001b[0m/\n",
      "\u001b[01;34m20201101-20201130\u001b[0m/  \u001b[01;34m20210101-20210215\u001b[0m/  \u001b[01;34m20210317-20210416\u001b[0m/\n",
      "\n",
      "/home/hg_storage_one/images/20201001-20201031:\n",
      "\u001b[01;35m0000000000-0000000000.tif\u001b[0m       \u001b[01;35m0000000000-0000010496.tif\u001b[0m\n",
      "\u001b[01;35m0000000000-0000000000_ndvi.tif\u001b[0m  \u001b[01;35m0000000000-0000010496_ndvi.tif\u001b[0m\n",
      "\n",
      "/home/hg_storage_one/images/20201101-20201130:\n",
      "\u001b[01;35m0000000000-0000000000.tif\u001b[0m       \u001b[01;35m0000000000-0000010496.tif\u001b[0m\n",
      "\u001b[01;35m0000000000-0000000000_ndvi.tif\u001b[0m  \u001b[01;35m0000000000-0000010496_ndvi.tif\u001b[0m\n",
      "\n",
      "/home/hg_storage_one/images/20201201-20201230:\n",
      "\u001b[01;35m0000000000-0000000000.tif\u001b[0m       \u001b[01;35m0000000000-0000010496.tif\u001b[0m\n",
      "\u001b[01;35m0000000000-0000000000_ndvi.tif\u001b[0m  \u001b[01;35m0000000000-0000010496_ndvi.tif\u001b[0m\n",
      "\n",
      "/home/hg_storage_one/images/20210101-20210215:\n",
      "\u001b[01;35m0000000000-0000000000.tif\u001b[0m       \u001b[01;35m0000000000-0000010496.tif\u001b[0m\n",
      "\u001b[01;35m0000000000-0000000000_ndvi.tif\u001b[0m  \u001b[01;35m0000000000-0000010496_ndvi.tif\u001b[0m\n",
      "\n",
      "/home/hg_storage_one/images/20210220-20210316:\n",
      "\u001b[01;35m0000000000-0000000000.tif\u001b[0m       \u001b[01;35m0000000000-0000010496.tif\u001b[0m\n",
      "\u001b[01;35m0000000000-0000000000_ndvi.tif\u001b[0m  \u001b[01;35m0000000000-0000010496_ndvi.tif\u001b[0m\n",
      "\n",
      "/home/hg_storage_one/images/20210317-20210416:\n",
      "\u001b[01;35m0000000000-0000000000.tif\u001b[0m       \u001b[01;35m0000000000-0000010496.tif\u001b[0m\n",
      "\u001b[01;35m0000000000-0000000000_ndvi.tif\u001b[0m  \u001b[01;35m0000000000-0000010496_ndvi.tif\u001b[0m\n",
      "\n",
      "/home/hg_storage_one/images/results:\n",
      "\u001b[01;35m0000000000-0000000000_ndvi.tif\u001b[0m  \u001b[01;35m0000000000-0000010496_ndvi.tif\u001b[0m\n"
     ]
    }
   ],
   "source": [
    "ls ~/images -R"
   ]
  },
  {
   "cell_type": "code",
   "execution_count": 16,
   "metadata": {},
   "outputs": [
    {
     "name": "stdout",
     "output_type": "stream",
     "text": [
      "/home/hg_storage_one/data:\n",
      "classes.geojson    departamentos.dbf  departamentos.shx  verdad_campo.prj\n",
      "clip.geojson       departamentos.prj  verdad_campo.cpg   verdad_campo.shp\n",
      "departamentos.cpg  departamentos.shp  verdad_campo.dbf   verdad_campo.shx\n"
     ]
    }
   ],
   "source": [
    "ls ~/data -R"
   ]
  },
  {
   "cell_type": "code",
   "execution_count": 62,
   "metadata": {},
   "outputs": [],
   "source": [
    "!ogr2ogr -sql \"SELECT * FROM departamentos WHERE nombre='PTE ROQUE SAENZ PENA'\" -dialect sqlite {base}/data/departamentos_rsp.shp {base}/data/departamentos.shp\n",
    "\n",
    "!ogr2ogr -sql \"SELECT * FROM departamentos WHERE nombre='GENERAL VILLEGAS'\" -dialect sqlite {base}/data/departamentos_villegas.shp {base}/data/departamentos.shp\n",
    "\n",
    "!ogr2ogr -sql \"SELECT * FROM departamentos WHERE nombre='GENERAL ROCA'\" -dialect sqlite {base}/data/departamentos_roca.shp {base}/data/departamentos.shp"
   ]
  },
  {
   "cell_type": "code",
   "execution_count": 36,
   "metadata": {},
   "outputs": [
    {
     "name": "stdout",
     "output_type": "stream",
     "text": [
      "ogrinfo -so /home/hg_storage_one/data/verdad_campo.shp verdad_campo\n",
      "INFO: Open of `/home/hg_storage_one/data/verdad_campo.shp'\n",
      "      using driver `ESRI Shapefile' successful.\n",
      "\n",
      "Layer name: verdad_campo\n",
      "Metadata:\n",
      "  DBF_DATE_LAST_UPDATE=2021-04-24\n",
      "Geometry: Point\n",
      "Feature Count: 466\n",
      "Extent: (-65.072036, -35.286969) - (-62.300375, -33.833709)\n",
      "Layer SRS WKT:\n",
      "GEOGCRS[\"WGS 84\",\n",
      "    DATUM[\"World Geodetic System 1984\",\n",
      "        ELLIPSOID[\"WGS 84\",6378137,298.257223563,\n",
      "            LENGTHUNIT[\"metre\",1]]],\n",
      "    PRIMEM[\"Greenwich\",0,\n",
      "        ANGLEUNIT[\"degree\",0.0174532925199433]],\n",
      "    CS[ellipsoidal,2],\n",
      "        AXIS[\"latitude\",north,\n",
      "            ORDER[1],\n",
      "            ANGLEUNIT[\"degree\",0.0174532925199433]],\n",
      "        AXIS[\"longitude\",east,\n",
      "            ORDER[2],\n",
      "            ANGLEUNIT[\"degree\",0.0174532925199433]],\n",
      "    ID[\"EPSG\",4326]]\n",
      "Data axis to CRS axis mapping: 2,1\n",
      "in1: String (6.0)\n",
      "id: Integer64 (10.0)\n",
      "cultivo: String (10.0)\n",
      "ogrinfo -so /home/hg_storage_one/data/departamentos.shp departamentos\n",
      "INFO: Open of `/home/hg_storage_one/data/departamentos.shp'\n",
      "      using driver `ESRI Shapefile' successful.\n",
      "\n",
      "Layer name: departamentos\n",
      "Metadata:\n",
      "  DBF_DATE_LAST_UPDATE=2021-04-24\n",
      "Geometry: 3D Polygon\n",
      "Feature Count: 3\n",
      "Extent: (-65.117493, -35.369690) - (-62.268194, -33.815259)\n",
      "Layer SRS WKT:\n",
      "GEOGCRS[\"WGS 84\",\n",
      "    DATUM[\"World Geodetic System 1984\",\n",
      "        ELLIPSOID[\"WGS 84\",6378137,298.257223563,\n",
      "            LENGTHUNIT[\"metre\",1]]],\n",
      "    PRIMEM[\"Greenwich\",0,\n",
      "        ANGLEUNIT[\"degree\",0.0174532925199433]],\n",
      "    CS[ellipsoidal,2],\n",
      "        AXIS[\"latitude\",north,\n",
      "            ORDER[1],\n",
      "            ANGLEUNIT[\"degree\",0.0174532925199433]],\n",
      "        AXIS[\"longitude\",east,\n",
      "            ORDER[2],\n",
      "            ANGLEUNIT[\"degree\",0.0174532925199433]],\n",
      "    ID[\"EPSG\",4326]]\n",
      "Data axis to CRS axis mapping: 2,1\n",
      "in1: String (6.0)\n",
      "nombre: String (20.0)\n"
     ]
    }
   ],
   "source": [
    "shapes = glob.glob('{base}/data/*.shp'.format(base= base))\n",
    "\n",
    "for shp in shapes:\n",
    "    layer = Path(shp).stem\n",
    "    cmd = \"ogrinfo -so {shp} {layer}\".format(shp=shp, layer=layer)\n",
    "    print(cmd)\n",
    "    !{cmd}"
   ]
  },
  {
   "cell_type": "markdown",
   "metadata": {},
   "source": [
    "## Calculamos indice NDVI\n",
    "\n",
    "Bandas: 'B2', 'B3', 'B4', 'B5', 'B6', 'B7', 'B8', 'B8A', 'B11', 'B12'\n",
    "\n",
    "NDVI: (NIR-RED)/(NIR+RED) -> (B8-B4)/(B8+B4) -> (imb7-imb3)/(imb7+imb3)"
   ]
  },
  {
   "cell_type": "code",
   "execution_count": 25,
   "metadata": {},
   "outputs": [
    {
     "name": "stdout",
     "output_type": "stream",
     "text": [
      "bash -c 'source ~/OTB-7.2.0-Linux64/otbenv.profile;  otbcli_BandMath -il /home/hg_storage_one/images/20201101-20201130/0000000000-0000000000_ndvi.tif -out /home/hg_storage_one/images/20201101-20201130/0000000000-0000000000_ndvi_ndvi.tif -exp \"(im1b7-im1b3)/(im1b7+im1b3)\"'\n",
      "bash -c 'source ~/OTB-7.2.0-Linux64/otbenv.profile;  otbcli_BandMath -il /home/hg_storage_one/images/20201101-20201130/0000000000-0000010496_ndvi.tif -out /home/hg_storage_one/images/20201101-20201130/0000000000-0000010496_ndvi_ndvi.tif -exp \"(im1b7-im1b3)/(im1b7+im1b3)\"'\n",
      "bash -c 'source ~/OTB-7.2.0-Linux64/otbenv.profile;  otbcli_BandMath -il /home/hg_storage_one/images/20201101-20201130/0000000000-0000010496.tif -out /home/hg_storage_one/images/20201101-20201130/0000000000-0000010496_ndvi.tif -exp \"(im1b7-im1b3)/(im1b7+im1b3)\"'\n",
      "bash -c 'source ~/OTB-7.2.0-Linux64/otbenv.profile;  otbcli_BandMath -il /home/hg_storage_one/images/20201101-20201130/0000000000-0000000000.tif -out /home/hg_storage_one/images/20201101-20201130/0000000000-0000000000_ndvi.tif -exp \"(im1b7-im1b3)/(im1b7+im1b3)\"'\n",
      "bash -c 'source ~/OTB-7.2.0-Linux64/otbenv.profile;  otbcli_BandMath -il /home/hg_storage_one/images/results/0000000000-0000000000_ndvi.tif -out /home/hg_storage_one/images/results/0000000000-0000000000_ndvi_ndvi.tif -exp \"(im1b7-im1b3)/(im1b7+im1b3)\"'\n",
      "bash -c 'source ~/OTB-7.2.0-Linux64/otbenv.profile;  otbcli_BandMath -il /home/hg_storage_one/images/results/0000000000-0000010496_ndvi.tif -out /home/hg_storage_one/images/results/0000000000-0000010496_ndvi_ndvi.tif -exp \"(im1b7-im1b3)/(im1b7+im1b3)\"'\n",
      "bash -c 'source ~/OTB-7.2.0-Linux64/otbenv.profile;  otbcli_BandMath -il /home/hg_storage_one/images/20201201-20201230/0000000000-0000000000_ndvi.tif -out /home/hg_storage_one/images/20201201-20201230/0000000000-0000000000_ndvi_ndvi.tif -exp \"(im1b7-im1b3)/(im1b7+im1b3)\"'\n",
      "bash -c 'source ~/OTB-7.2.0-Linux64/otbenv.profile;  otbcli_BandMath -il /home/hg_storage_one/images/20201201-20201230/0000000000-0000010496_ndvi.tif -out /home/hg_storage_one/images/20201201-20201230/0000000000-0000010496_ndvi_ndvi.tif -exp \"(im1b7-im1b3)/(im1b7+im1b3)\"'\n",
      "bash -c 'source ~/OTB-7.2.0-Linux64/otbenv.profile;  otbcli_BandMath -il /home/hg_storage_one/images/20201201-20201230/0000000000-0000010496.tif -out /home/hg_storage_one/images/20201201-20201230/0000000000-0000010496_ndvi.tif -exp \"(im1b7-im1b3)/(im1b7+im1b3)\"'\n",
      "bash -c 'source ~/OTB-7.2.0-Linux64/otbenv.profile;  otbcli_BandMath -il /home/hg_storage_one/images/20201201-20201230/0000000000-0000000000.tif -out /home/hg_storage_one/images/20201201-20201230/0000000000-0000000000_ndvi.tif -exp \"(im1b7-im1b3)/(im1b7+im1b3)\"'\n",
      "bash -c 'source ~/OTB-7.2.0-Linux64/otbenv.profile;  otbcli_BandMath -il /home/hg_storage_one/images/20210317-20210416/0000000000-0000000000_ndvi.tif -out /home/hg_storage_one/images/20210317-20210416/0000000000-0000000000_ndvi_ndvi.tif -exp \"(im1b7-im1b3)/(im1b7+im1b3)\"'\n",
      "bash -c 'source ~/OTB-7.2.0-Linux64/otbenv.profile;  otbcli_BandMath -il /home/hg_storage_one/images/20210317-20210416/0000000000-0000010496_ndvi.tif -out /home/hg_storage_one/images/20210317-20210416/0000000000-0000010496_ndvi_ndvi.tif -exp \"(im1b7-im1b3)/(im1b7+im1b3)\"'\n",
      "bash -c 'source ~/OTB-7.2.0-Linux64/otbenv.profile;  otbcli_BandMath -il /home/hg_storage_one/images/20210317-20210416/0000000000-0000010496.tif -out /home/hg_storage_one/images/20210317-20210416/0000000000-0000010496_ndvi.tif -exp \"(im1b7-im1b3)/(im1b7+im1b3)\"'\n",
      "bash -c 'source ~/OTB-7.2.0-Linux64/otbenv.profile;  otbcli_BandMath -il /home/hg_storage_one/images/20210317-20210416/0000000000-0000000000.tif -out /home/hg_storage_one/images/20210317-20210416/0000000000-0000000000_ndvi.tif -exp \"(im1b7-im1b3)/(im1b7+im1b3)\"'\n",
      "bash -c 'source ~/OTB-7.2.0-Linux64/otbenv.profile;  otbcli_BandMath -il /home/hg_storage_one/images/20210220-20210316/0000000000-0000000000_ndvi.tif -out /home/hg_storage_one/images/20210220-20210316/0000000000-0000000000_ndvi_ndvi.tif -exp \"(im1b7-im1b3)/(im1b7+im1b3)\"'\n",
      "bash -c 'source ~/OTB-7.2.0-Linux64/otbenv.profile;  otbcli_BandMath -il /home/hg_storage_one/images/20210220-20210316/0000000000-0000010496_ndvi.tif -out /home/hg_storage_one/images/20210220-20210316/0000000000-0000010496_ndvi_ndvi.tif -exp \"(im1b7-im1b3)/(im1b7+im1b3)\"'\n",
      "bash -c 'source ~/OTB-7.2.0-Linux64/otbenv.profile;  otbcli_BandMath -il /home/hg_storage_one/images/20210220-20210316/0000000000-0000010496.tif -out /home/hg_storage_one/images/20210220-20210316/0000000000-0000010496_ndvi.tif -exp \"(im1b7-im1b3)/(im1b7+im1b3)\"'\n",
      "bash -c 'source ~/OTB-7.2.0-Linux64/otbenv.profile;  otbcli_BandMath -il /home/hg_storage_one/images/20210220-20210316/0000000000-0000000000.tif -out /home/hg_storage_one/images/20210220-20210316/0000000000-0000000000_ndvi.tif -exp \"(im1b7-im1b3)/(im1b7+im1b3)\"'\n",
      "bash -c 'source ~/OTB-7.2.0-Linux64/otbenv.profile;  otbcli_BandMath -il /home/hg_storage_one/images/20201001-20201031/0000000000-0000000000_ndvi.tif -out /home/hg_storage_one/images/20201001-20201031/0000000000-0000000000_ndvi_ndvi.tif -exp \"(im1b7-im1b3)/(im1b7+im1b3)\"'\n",
      "bash -c 'source ~/OTB-7.2.0-Linux64/otbenv.profile;  otbcli_BandMath -il /home/hg_storage_one/images/20201001-20201031/0000000000-0000010496_ndvi.tif -out /home/hg_storage_one/images/20201001-20201031/0000000000-0000010496_ndvi_ndvi.tif -exp \"(im1b7-im1b3)/(im1b7+im1b3)\"'\n",
      "bash -c 'source ~/OTB-7.2.0-Linux64/otbenv.profile;  otbcli_BandMath -il /home/hg_storage_one/images/20201001-20201031/0000000000-0000010496.tif -out /home/hg_storage_one/images/20201001-20201031/0000000000-0000010496_ndvi.tif -exp \"(im1b7-im1b3)/(im1b7+im1b3)\"'\n",
      "bash -c 'source ~/OTB-7.2.0-Linux64/otbenv.profile;  otbcli_BandMath -il /home/hg_storage_one/images/20201001-20201031/0000000000-0000000000.tif -out /home/hg_storage_one/images/20201001-20201031/0000000000-0000000000_ndvi.tif -exp \"(im1b7-im1b3)/(im1b7+im1b3)\"'\n",
      "bash -c 'source ~/OTB-7.2.0-Linux64/otbenv.profile;  otbcli_BandMath -il /home/hg_storage_one/images/20210101-20210215/0000000000-0000000000_ndvi.tif -out /home/hg_storage_one/images/20210101-20210215/0000000000-0000000000_ndvi_ndvi.tif -exp \"(im1b7-im1b3)/(im1b7+im1b3)\"'\n",
      "bash -c 'source ~/OTB-7.2.0-Linux64/otbenv.profile;  otbcli_BandMath -il /home/hg_storage_one/images/20210101-20210215/0000000000-0000010496_ndvi.tif -out /home/hg_storage_one/images/20210101-20210215/0000000000-0000010496_ndvi_ndvi.tif -exp \"(im1b7-im1b3)/(im1b7+im1b3)\"'\n",
      "bash -c 'source ~/OTB-7.2.0-Linux64/otbenv.profile;  otbcli_BandMath -il /home/hg_storage_one/images/20210101-20210215/0000000000-0000010496.tif -out /home/hg_storage_one/images/20210101-20210215/0000000000-0000010496_ndvi.tif -exp \"(im1b7-im1b3)/(im1b7+im1b3)\"'\n",
      "bash -c 'source ~/OTB-7.2.0-Linux64/otbenv.profile;  otbcli_BandMath -il /home/hg_storage_one/images/20210101-20210215/0000000000-0000000000.tif -out /home/hg_storage_one/images/20210101-20210215/0000000000-0000000000_ndvi.tif -exp \"(im1b7-im1b3)/(im1b7+im1b3)\"'\n"
     ]
    }
   ],
   "source": [
    "images = glob.glob('{base}/images/**/*.tif'.format(base= base))\n",
    "for image in images:\n",
    "    fname, ext = os.path.splitext(image)\n",
    "    im_out_fname = '{im}_ndvi.tif'.format(im=fname)\n",
    "    cmd = \"\"\"bash -c 'source ~/OTB-7.2.0-Linux64/otbenv.profile;  otbcli_BandMath -il {im} -out {im_out} -exp \"(im1b7-im1b3)/(im1b7+im1b3)\"'\"\"\".format(im=image, im_out=im_out_fname)\n",
    "    print(cmd)\n",
    "    #subprocess.run(cmd, shell=True)"
   ]
  },
  {
   "cell_type": "code",
   "execution_count": 2,
   "metadata": {},
   "outputs": [
    {
     "name": "stdout",
     "output_type": "stream",
     "text": [
      "/home/hg_storage_one/images/20201101-20201130/0000000000-0000000000_ndvi.tif\n",
      "/home/hg_storage_one/images/20201101-20201130/0000000000-0000010496_ndvi.tif\n",
      "/home/hg_storage_one/images/results/0000000000-0000000000_ndvi.tif\n",
      "/home/hg_storage_one/images/results/0000000000-0000010496_ndvi.tif\n",
      "/home/hg_storage_one/images/20201201-20201230/0000000000-0000000000_ndvi.tif\n",
      "/home/hg_storage_one/images/20201201-20201230/0000000000-0000010496_ndvi.tif\n",
      "/home/hg_storage_one/images/20210317-20210416/0000000000-0000000000_ndvi.tif\n",
      "/home/hg_storage_one/images/20210317-20210416/0000000000-0000010496_ndvi.tif\n",
      "/home/hg_storage_one/images/20210220-20210316/0000000000-0000000000_ndvi.tif\n",
      "/home/hg_storage_one/images/20210220-20210316/0000000000-0000010496_ndvi.tif\n",
      "/home/hg_storage_one/images/20201001-20201031/0000000000-0000000000_ndvi.tif\n",
      "/home/hg_storage_one/images/20201001-20201031/0000000000-0000010496_ndvi.tif\n",
      "/home/hg_storage_one/images/20210101-20210215/0000000000-0000000000_ndvi.tif\n",
      "/home/hg_storage_one/images/20210101-20210215/0000000000-0000010496_ndvi.tif\n"
     ]
    }
   ],
   "source": [
    "images = glob.glob('{base}/images/**/*_ndvi.tif'.format(base= base))\n",
    "\n",
    "for image in images:\n",
    "    print(image)\n",
    "    #img = rasterio.open(image)\n",
    "    #show(img)\n"
   ]
  },
  {
   "cell_type": "markdown",
   "metadata": {},
   "source": [
    "## Juntamos las imagenes NDVI por tile"
   ]
  },
  {
   "cell_type": "code",
   "execution_count": 5,
   "metadata": {},
   "outputs": [],
   "source": [
    "tiles = ['0000000000-0000000000', '0000000000-0000010496']\n",
    "\n",
    "for tile in tiles:\n",
    "    images_ndvi = sorted(glob.glob('{base}/images/**/{tile}_ndvi.tif'.format(tile=tile, base=base )))\n",
    "    images_ndvi_otb = ' '.join(images_ndvi)\n",
    "    im_out_fname = '{base}/images/results/{tile}_ndvi.tif'.format(tile=tile, base=base)\n",
    "    cmd = \"\"\"bash -c 'source ~/OTB-7.2.0-Linux64/otbenv.profile;  otbcli_ConcatenateImages -il {im} -out {im_out}'\"\"\".format(im=images_ndvi_otb, im_out=im_out_fname)\n",
    "    #print(cmd)\n",
    "    subprocess.run(cmd, shell=True)"
   ]
  },
  {
   "cell_type": "markdown",
   "metadata": {},
   "source": [
    "## Clasificador por píxel"
   ]
  },
  {
   "cell_type": "markdown",
   "metadata": {},
   "source": [
    "### Filenames"
   ]
  },
  {
   "cell_type": "code",
   "execution_count": null,
   "metadata": {},
   "outputs": [],
   "source": [
    "image = '{base}/images/results/0000000000-0000010496_ndvi.tif'.format(base=base)\n",
    "image2 = '{base}/images/results/0000000000-0000000000_ndvi.tif'.format(base=base)\n",
    "classes_stat_filename = '{base}/results/classes_stat.xml'.format(base=base)\n",
    "rates_filename = '{base}/results/rates.csv'.format(base=base)\n",
    "samples_db = '{base}/results/samples.sqlite'.format(base=base)\n",
    "image_stats_filename = '{base}/results/images_stats.xml'.format(base=base)\n",
    "model_filename = '{base}/results/model.txt'.format(base=base)\n",
    "cm_filename = '{base}/results/confusion_matrix_RF.csv'.format(base=base)\n",
    "tile_name = Path(image).stem\n",
    "predict_filename = '{base}/results/{tile_name}_predict.tif'.format(base=base, tile_name= tile_name)\n",
    "tile_name2 = Path(image2).stem\n",
    "predict_filename2 = '{base}/results/{tile_name2}_predict.tif'.format(base=base, tile_name2= tile_name2)\n",
    "results_merge_filename =  '{base}/results/results_merge.tif'.format(base=base)\n",
    "results_merge_filename_temp =  '{base}/results/results_merge_temp.tif'.format(base=base)\n",
    "results_merge_soja_filename =  '{base}/results/results_merge_soja.tif'.format(base=base)\n",
    "results_merge_maiz_filename =  '{base}/results/results_merge_maiz.tif'.format(base=base)\n",
    "results_merge_girasol_filename =  '{base}/results/results_merge_girasol.tif'.format(base=base)\n",
    "results_merge_soja_rsp_filename =  '{base}/results/results_merge_soja_rsp.tif'.format(base=base)\n",
    "results_merge_maiz_rsp_filename =  '{base}/results/results_merge_maiz_rsp.tif'.format(base=base)\n",
    "results_merge_soja_roca_filename =  '{base}/results/results_merge_soja_roca.tif'.format(base=base)\n",
    "results_merge_maiz_roca_filename =  '{base}/results/results_merge_maiz_roca.tif'.format(base=base)\n",
    "results_merge_soja_villegas_filename =  '{base}/results/results_merge_soja_villegas.tif'.format(base=base)\n",
    "results_merge_maiz_villegas_filename =  '{base}/results/results_merge_maiz_villegas.tif'.format(base=base)\n"
   ]
  },
  {
   "cell_type": "markdown",
   "metadata": {},
   "source": [
    "### PolygonClassStatistics\n",
    "\n",
    "Pasamos la imagen y el archivo vectorial con las clases y nos devuelve un conteo de píxeles por clase. \n",
    "\n",
    "La columna con las clases es **id**"
   ]
  },
  {
   "cell_type": "code",
   "execution_count": 5,
   "metadata": {},
   "outputs": [
    {
     "name": "stdout",
     "output_type": "stream",
     "text": [
      "bash -c 'source ~/OTB-7.2.0-Linux64/otbenv.profile; otbcli_PolygonClassStatistics  -in /home/hg_storage_one/images/results/0000000000-0000010496_ndvi.tif                         -vec /home/hg_storage_one/data/verdad_campo.shp                         -field  id                         -out /home/hg_storage_one/results/classes_stat.xml'\n"
     ]
    }
   ],
   "source": [
    "cmd = \"\"\"bash -c 'source ~/OTB-7.2.0-Linux64/otbenv.profile; otbcli_PolygonClassStatistics  -in {image} \\\n",
    "                        -vec {base}/data/verdad_campo.shp \\\n",
    "                        -field  id \\\n",
    "                        -out {out}'\"\"\".format(image= image, base=base, out= classes_stat_filename)\n",
    "print(cmd)\n",
    "#subprocess.run(cmd, shell=True)"
   ]
  },
  {
   "cell_type": "code",
   "execution_count": 13,
   "metadata": {},
   "outputs": [
    {
     "name": "stdout",
     "output_type": "stream",
     "text": [
      "<?xml version=\"1.0\" ?>\n",
      "<GeneralStatistics>\n",
      "    <Statistic name=\"samplesPerClass\">\n",
      "        <StatisticMap key=\"1\" value=\"107\" />\n",
      "        <StatisticMap key=\"10\" value=\"2\" />\n",
      "        <StatisticMap key=\"2\" value=\"79\" />\n",
      "        <StatisticMap key=\"20\" value=\"2\" />\n",
      "        <StatisticMap key=\"3\" value=\"60\" />\n",
      "        <StatisticMap key=\"4\" value=\"34\" />\n",
      "        <StatisticMap key=\"5\" value=\"9\" />\n",
      "    </Statistic>\n",
      "    <Statistic name=\"samplesPerVector\">\n",
      "        <StatisticMap key=\"0\" value=\"1\" />\n",
      "        <StatisticMap key=\"1\" value=\"1\" />\n",
      "        <StatisticMap key=\"10\" value=\"1\" />\n",
      "        <StatisticMap key=\"100\" value=\"1\" />\n",
      "        <StatisticMap key=\"101\" value=\"1\" />\n",
      "        <StatisticMap key=\"102\" value=\"1\" />\n",
      "        <StatisticMap key=\"103\" value=\"1\" />\n",
      "        <StatisticMap key=\"104\" value=\"1\" />\n",
      "        <StatisticMap key=\"105\" value=\"1\" />\n",
      "        <StatisticMap key=\"106\" value=\"1\" />\n",
      "        <StatisticMap key=\"107\" value=\"1\" />\n",
      "        <StatisticMap key=\"108\" value=\"1\" />\n",
      "        <StatisticMap key=\"109\" value=\"1\" />\n",
      "        <StatisticMap key=\"11\" value=\"1\" />\n",
      "        <StatisticMap key=\"110\" value=\"1\" />\n",
      "        <StatisticMap key=\"111\" value=\"1\" />\n",
      "        <StatisticMap key=\"112\" value=\"1\" />\n",
      "        <StatisticMap key=\"113\" value=\"1\" />\n",
      "        <StatisticMap key=\"114\" value=\"1\" />\n",
      "        <StatisticMap key=\"115\" value=\"1\" />\n",
      "        <StatisticMap key=\"116\" value=\"1\" />\n",
      "        <StatisticMap key=\"117\" value=\"1\" />\n",
      "        <StatisticMap key=\"118\" value=\"1\" />\n",
      "        <StatisticMap key=\"119\" value=\"1\" />\n",
      "        <StatisticMap key=\"12\" value=\"1\" />\n",
      "        <StatisticMap key=\"120\" value=\"1\" />\n",
      "        <StatisticMap key=\"121\" value=\"1\" />\n",
      "        <StatisticMap key=\"122\" value=\"1\" />\n",
      "        <StatisticMap key=\"123\" value=\"1\" />\n",
      "        <StatisticMap key=\"124\" value=\"1\" />\n",
      "        <StatisticMap key=\"125\" value=\"1\" />\n",
      "        <StatisticMap key=\"126\" value=\"1\" />\n",
      "        <StatisticMap key=\"127\" value=\"1\" />\n",
      "        <StatisticMap key=\"128\" value=\"1\" />\n",
      "        <StatisticMap key=\"129\" value=\"1\" />\n",
      "        <StatisticMap key=\"130\" value=\"1\" />\n",
      "        <StatisticMap key=\"131\" value=\"1\" />\n",
      "        <StatisticMap key=\"132\" value=\"1\" />\n",
      "        <StatisticMap key=\"133\" value=\"1\" />\n",
      "        <StatisticMap key=\"134\" value=\"1\" />\n",
      "        <StatisticMap key=\"135\" value=\"1\" />\n",
      "        <StatisticMap key=\"136\" value=\"1\" />\n",
      "        <StatisticMap key=\"137\" value=\"1\" />\n",
      "        <StatisticMap key=\"138\" value=\"1\" />\n",
      "        <StatisticMap key=\"139\" value=\"1\" />\n",
      "        <StatisticMap key=\"140\" value=\"1\" />\n",
      "        <StatisticMap key=\"141\" value=\"1\" />\n",
      "        <StatisticMap key=\"142\" value=\"1\" />\n",
      "        <StatisticMap key=\"143\" value=\"1\" />\n",
      "        <StatisticMap key=\"144\" value=\"1\" />\n",
      "        <StatisticMap key=\"145\" value=\"1\" />\n",
      "        <StatisticMap key=\"146\" value=\"1\" />\n",
      "        <StatisticMap key=\"147\" value=\"1\" />\n",
      "        <StatisticMap key=\"148\" value=\"1\" />\n",
      "        <StatisticMap key=\"149\" value=\"1\" />\n",
      "        <StatisticMap key=\"150\" value=\"1\" />\n",
      "        <StatisticMap key=\"151\" value=\"1\" />\n",
      "        <StatisticMap key=\"152\" value=\"1\" />\n",
      "        <StatisticMap key=\"153\" value=\"1\" />\n",
      "        <StatisticMap key=\"154\" value=\"1\" />\n",
      "        <StatisticMap key=\"155\" value=\"1\" />\n",
      "        <StatisticMap key=\"156\" value=\"1\" />\n",
      "        <StatisticMap key=\"157\" value=\"1\" />\n",
      "        <StatisticMap key=\"158\" value=\"1\" />\n",
      "        <StatisticMap key=\"159\" value=\"1\" />\n",
      "        <StatisticMap key=\"160\" value=\"1\" />\n",
      "        <StatisticMap key=\"161\" value=\"1\" />\n",
      "        <StatisticMap key=\"162\" value=\"1\" />\n",
      "        <StatisticMap key=\"163\" value=\"1\" />\n",
      "        <StatisticMap key=\"164\" value=\"1\" />\n",
      "        <StatisticMap key=\"165\" value=\"1\" />\n",
      "        <StatisticMap key=\"166\" value=\"1\" />\n",
      "        <StatisticMap key=\"167\" value=\"1\" />\n",
      "        <StatisticMap key=\"168\" value=\"1\" />\n",
      "        <StatisticMap key=\"169\" value=\"1\" />\n",
      "        <StatisticMap key=\"170\" value=\"1\" />\n",
      "        <StatisticMap key=\"171\" value=\"1\" />\n",
      "        <StatisticMap key=\"172\" value=\"1\" />\n",
      "        <StatisticMap key=\"173\" value=\"1\" />\n",
      "        <StatisticMap key=\"174\" value=\"1\" />\n",
      "        <StatisticMap key=\"175\" value=\"1\" />\n",
      "        <StatisticMap key=\"176\" value=\"1\" />\n",
      "        <StatisticMap key=\"177\" value=\"1\" />\n",
      "        <StatisticMap key=\"178\" value=\"1\" />\n",
      "        <StatisticMap key=\"179\" value=\"1\" />\n",
      "        <StatisticMap key=\"180\" value=\"1\" />\n",
      "        <StatisticMap key=\"181\" value=\"1\" />\n",
      "        <StatisticMap key=\"182\" value=\"1\" />\n",
      "        <StatisticMap key=\"183\" value=\"1\" />\n",
      "        <StatisticMap key=\"184\" value=\"1\" />\n",
      "        <StatisticMap key=\"185\" value=\"1\" />\n",
      "        <StatisticMap key=\"186\" value=\"1\" />\n",
      "        <StatisticMap key=\"187\" value=\"1\" />\n",
      "        <StatisticMap key=\"188\" value=\"1\" />\n",
      "        <StatisticMap key=\"189\" value=\"1\" />\n",
      "        <StatisticMap key=\"19\" value=\"1\" />\n",
      "        <StatisticMap key=\"190\" value=\"1\" />\n",
      "        <StatisticMap key=\"191\" value=\"1\" />\n",
      "        <StatisticMap key=\"192\" value=\"1\" />\n",
      "        <StatisticMap key=\"193\" value=\"1\" />\n",
      "        <StatisticMap key=\"194\" value=\"1\" />\n",
      "        <StatisticMap key=\"195\" value=\"1\" />\n",
      "        <StatisticMap key=\"196\" value=\"1\" />\n",
      "        <StatisticMap key=\"197\" value=\"1\" />\n",
      "        <StatisticMap key=\"198\" value=\"1\" />\n",
      "        <StatisticMap key=\"199\" value=\"1\" />\n",
      "        <StatisticMap key=\"2\" value=\"1\" />\n",
      "        <StatisticMap key=\"20\" value=\"1\" />\n",
      "        <StatisticMap key=\"200\" value=\"1\" />\n",
      "        <StatisticMap key=\"201\" value=\"1\" />\n",
      "        <StatisticMap key=\"202\" value=\"1\" />\n",
      "        <StatisticMap key=\"203\" value=\"1\" />\n",
      "        <StatisticMap key=\"204\" value=\"1\" />\n",
      "        <StatisticMap key=\"205\" value=\"1\" />\n",
      "        <StatisticMap key=\"206\" value=\"1\" />\n",
      "        <StatisticMap key=\"207\" value=\"1\" />\n",
      "        <StatisticMap key=\"208\" value=\"1\" />\n",
      "        <StatisticMap key=\"209\" value=\"1\" />\n",
      "        <StatisticMap key=\"21\" value=\"1\" />\n",
      "        <StatisticMap key=\"210\" value=\"1\" />\n",
      "        <StatisticMap key=\"211\" value=\"1\" />\n",
      "        <StatisticMap key=\"212\" value=\"1\" />\n",
      "        <StatisticMap key=\"213\" value=\"1\" />\n",
      "        <StatisticMap key=\"214\" value=\"1\" />\n",
      "        <StatisticMap key=\"215\" value=\"1\" />\n",
      "        <StatisticMap key=\"216\" value=\"1\" />\n",
      "        <StatisticMap key=\"217\" value=\"1\" />\n",
      "        <StatisticMap key=\"218\" value=\"1\" />\n",
      "        <StatisticMap key=\"22\" value=\"1\" />\n",
      "        <StatisticMap key=\"23\" value=\"1\" />\n",
      "        <StatisticMap key=\"24\" value=\"1\" />\n",
      "        <StatisticMap key=\"241\" value=\"1\" />\n",
      "        <StatisticMap key=\"25\" value=\"1\" />\n",
      "        <StatisticMap key=\"26\" value=\"1\" />\n",
      "        <StatisticMap key=\"27\" value=\"1\" />\n",
      "        <StatisticMap key=\"28\" value=\"1\" />\n",
      "        <StatisticMap key=\"285\" value=\"1\" />\n",
      "        <StatisticMap key=\"286\" value=\"1\" />\n",
      "        <StatisticMap key=\"287\" value=\"1\" />\n",
      "        <StatisticMap key=\"288\" value=\"1\" />\n",
      "        <StatisticMap key=\"289\" value=\"1\" />\n",
      "        <StatisticMap key=\"29\" value=\"1\" />\n",
      "        <StatisticMap key=\"290\" value=\"1\" />\n",
      "        <StatisticMap key=\"291\" value=\"1\" />\n",
      "        <StatisticMap key=\"292\" value=\"1\" />\n",
      "        <StatisticMap key=\"298\" value=\"1\" />\n",
      "        <StatisticMap key=\"299\" value=\"1\" />\n",
      "        <StatisticMap key=\"3\" value=\"1\" />\n",
      "        <StatisticMap key=\"30\" value=\"1\" />\n",
      "        <StatisticMap key=\"300\" value=\"1\" />\n",
      "        <StatisticMap key=\"301\" value=\"1\" />\n",
      "        <StatisticMap key=\"302\" value=\"1\" />\n",
      "        <StatisticMap key=\"303\" value=\"1\" />\n",
      "        <StatisticMap key=\"304\" value=\"1\" />\n",
      "        <StatisticMap key=\"305\" value=\"1\" />\n",
      "        <StatisticMap key=\"306\" value=\"1\" />\n",
      "        <StatisticMap key=\"307\" value=\"1\" />\n",
      "        <StatisticMap key=\"308\" value=\"1\" />\n",
      "        <StatisticMap key=\"309\" value=\"1\" />\n",
      "        <StatisticMap key=\"31\" value=\"1\" />\n",
      "        <StatisticMap key=\"310\" value=\"1\" />\n",
      "        <StatisticMap key=\"311\" value=\"1\" />\n",
      "        <StatisticMap key=\"312\" value=\"1\" />\n",
      "        <StatisticMap key=\"313\" value=\"1\" />\n",
      "        <StatisticMap key=\"314\" value=\"1\" />\n",
      "        <StatisticMap key=\"315\" value=\"1\" />\n",
      "        <StatisticMap key=\"316\" value=\"1\" />\n",
      "        <StatisticMap key=\"318\" value=\"1\" />\n",
      "        <StatisticMap key=\"319\" value=\"1\" />\n",
      "        <StatisticMap key=\"32\" value=\"1\" />\n",
      "        <StatisticMap key=\"320\" value=\"1\" />\n",
      "        <StatisticMap key=\"321\" value=\"1\" />\n",
      "        <StatisticMap key=\"322\" value=\"1\" />\n",
      "        <StatisticMap key=\"323\" value=\"1\" />\n",
      "        <StatisticMap key=\"324\" value=\"1\" />\n",
      "        <StatisticMap key=\"325\" value=\"1\" />\n",
      "        <StatisticMap key=\"326\" value=\"1\" />\n",
      "        <StatisticMap key=\"331\" value=\"1\" />\n",
      "        <StatisticMap key=\"332\" value=\"1\" />\n",
      "        <StatisticMap key=\"333\" value=\"1\" />\n",
      "        <StatisticMap key=\"334\" value=\"1\" />\n",
      "        <StatisticMap key=\"335\" value=\"1\" />\n",
      "        <StatisticMap key=\"336\" value=\"1\" />\n",
      "        <StatisticMap key=\"337\" value=\"1\" />\n",
      "        <StatisticMap key=\"338\" value=\"1\" />\n",
      "        <StatisticMap key=\"339\" value=\"1\" />\n",
      "        <StatisticMap key=\"340\" value=\"1\" />\n",
      "        <StatisticMap key=\"341\" value=\"1\" />\n",
      "        <StatisticMap key=\"342\" value=\"1\" />\n",
      "        <StatisticMap key=\"343\" value=\"1\" />\n",
      "        <StatisticMap key=\"344\" value=\"1\" />\n",
      "        <StatisticMap key=\"345\" value=\"1\" />\n",
      "        <StatisticMap key=\"346\" value=\"1\" />\n",
      "        <StatisticMap key=\"347\" value=\"1\" />\n",
      "        <StatisticMap key=\"348\" value=\"1\" />\n",
      "        <StatisticMap key=\"349\" value=\"1\" />\n",
      "        <StatisticMap key=\"350\" value=\"1\" />\n",
      "        <StatisticMap key=\"351\" value=\"1\" />\n",
      "        <StatisticMap key=\"352\" value=\"1\" />\n",
      "        <StatisticMap key=\"353\" value=\"1\" />\n",
      "        <StatisticMap key=\"354\" value=\"1\" />\n",
      "        <StatisticMap key=\"355\" value=\"1\" />\n",
      "        <StatisticMap key=\"356\" value=\"1\" />\n",
      "        <StatisticMap key=\"357\" value=\"1\" />\n",
      "        <StatisticMap key=\"358\" value=\"1\" />\n",
      "        <StatisticMap key=\"359\" value=\"1\" />\n",
      "        <StatisticMap key=\"360\" value=\"1\" />\n",
      "        <StatisticMap key=\"361\" value=\"1\" />\n",
      "        <StatisticMap key=\"362\" value=\"1\" />\n",
      "        <StatisticMap key=\"363\" value=\"1\" />\n",
      "        <StatisticMap key=\"364\" value=\"1\" />\n",
      "        <StatisticMap key=\"365\" value=\"1\" />\n",
      "        <StatisticMap key=\"366\" value=\"1\" />\n",
      "        <StatisticMap key=\"367\" value=\"1\" />\n",
      "        <StatisticMap key=\"368\" value=\"1\" />\n",
      "        <StatisticMap key=\"369\" value=\"1\" />\n",
      "        <StatisticMap key=\"370\" value=\"1\" />\n",
      "        <StatisticMap key=\"371\" value=\"1\" />\n",
      "        <StatisticMap key=\"372\" value=\"1\" />\n",
      "        <StatisticMap key=\"373\" value=\"1\" />\n",
      "        <StatisticMap key=\"374\" value=\"1\" />\n",
      "        <StatisticMap key=\"375\" value=\"1\" />\n",
      "        <StatisticMap key=\"376\" value=\"1\" />\n",
      "        <StatisticMap key=\"377\" value=\"1\" />\n",
      "        <StatisticMap key=\"378\" value=\"1\" />\n",
      "        <StatisticMap key=\"379\" value=\"1\" />\n",
      "        <StatisticMap key=\"380\" value=\"1\" />\n",
      "        <StatisticMap key=\"381\" value=\"1\" />\n",
      "        <StatisticMap key=\"382\" value=\"1\" />\n",
      "        <StatisticMap key=\"383\" value=\"1\" />\n",
      "        <StatisticMap key=\"384\" value=\"1\" />\n",
      "        <StatisticMap key=\"385\" value=\"1\" />\n",
      "        <StatisticMap key=\"386\" value=\"1\" />\n",
      "        <StatisticMap key=\"387\" value=\"1\" />\n",
      "        <StatisticMap key=\"388\" value=\"1\" />\n",
      "        <StatisticMap key=\"389\" value=\"1\" />\n",
      "        <StatisticMap key=\"390\" value=\"1\" />\n",
      "        <StatisticMap key=\"391\" value=\"1\" />\n",
      "        <StatisticMap key=\"392\" value=\"1\" />\n",
      "        <StatisticMap key=\"393\" value=\"1\" />\n",
      "        <StatisticMap key=\"394\" value=\"1\" />\n",
      "        <StatisticMap key=\"395\" value=\"1\" />\n",
      "        <StatisticMap key=\"396\" value=\"1\" />\n",
      "        <StatisticMap key=\"397\" value=\"1\" />\n",
      "        <StatisticMap key=\"398\" value=\"1\" />\n",
      "        <StatisticMap key=\"399\" value=\"1\" />\n",
      "        <StatisticMap key=\"4\" value=\"1\" />\n",
      "        <StatisticMap key=\"400\" value=\"1\" />\n",
      "        <StatisticMap key=\"5\" value=\"1\" />\n",
      "        <StatisticMap key=\"6\" value=\"1\" />\n",
      "        <StatisticMap key=\"60\" value=\"1\" />\n",
      "        <StatisticMap key=\"61\" value=\"1\" />\n",
      "        <StatisticMap key=\"62\" value=\"1\" />\n",
      "        <StatisticMap key=\"63\" value=\"1\" />\n",
      "        <StatisticMap key=\"64\" value=\"1\" />\n",
      "        <StatisticMap key=\"65\" value=\"1\" />\n",
      "        <StatisticMap key=\"66\" value=\"1\" />\n",
      "        <StatisticMap key=\"67\" value=\"1\" />\n",
      "        <StatisticMap key=\"68\" value=\"1\" />\n",
      "        <StatisticMap key=\"69\" value=\"1\" />\n",
      "        <StatisticMap key=\"7\" value=\"1\" />\n",
      "        <StatisticMap key=\"70\" value=\"1\" />\n",
      "        <StatisticMap key=\"71\" value=\"1\" />\n",
      "        <StatisticMap key=\"72\" value=\"1\" />\n",
      "        <StatisticMap key=\"73\" value=\"1\" />\n",
      "        <StatisticMap key=\"74\" value=\"1\" />\n",
      "        <StatisticMap key=\"75\" value=\"1\" />\n",
      "        <StatisticMap key=\"76\" value=\"1\" />\n",
      "        <StatisticMap key=\"77\" value=\"1\" />\n",
      "        <StatisticMap key=\"78\" value=\"1\" />\n",
      "        <StatisticMap key=\"79\" value=\"1\" />\n",
      "        <StatisticMap key=\"8\" value=\"1\" />\n",
      "        <StatisticMap key=\"80\" value=\"1\" />\n",
      "        <StatisticMap key=\"81\" value=\"1\" />\n",
      "        <StatisticMap key=\"82\" value=\"1\" />\n",
      "        <StatisticMap key=\"83\" value=\"1\" />\n",
      "        <StatisticMap key=\"84\" value=\"1\" />\n",
      "        <StatisticMap key=\"85\" value=\"1\" />\n",
      "        <StatisticMap key=\"86\" value=\"1\" />\n",
      "        <StatisticMap key=\"87\" value=\"1\" />\n",
      "        <StatisticMap key=\"88\" value=\"1\" />\n",
      "        <StatisticMap key=\"89\" value=\"1\" />\n",
      "        <StatisticMap key=\"9\" value=\"1\" />\n",
      "        <StatisticMap key=\"90\" value=\"1\" />\n",
      "        <StatisticMap key=\"91\" value=\"1\" />\n",
      "        <StatisticMap key=\"92\" value=\"1\" />\n",
      "        <StatisticMap key=\"93\" value=\"1\" />\n",
      "        <StatisticMap key=\"94\" value=\"1\" />\n",
      "        <StatisticMap key=\"95\" value=\"1\" />\n",
      "        <StatisticMap key=\"96\" value=\"1\" />\n",
      "        <StatisticMap key=\"97\" value=\"1\" />\n",
      "        <StatisticMap key=\"98\" value=\"1\" />\n",
      "        <StatisticMap key=\"99\" value=\"1\" />\n",
      "    </Statistic>\n",
      "</GeneralStatistics>\n"
     ]
    }
   ],
   "source": [
    "!cat {classes_stat_filename}"
   ]
  },
  {
   "cell_type": "markdown",
   "metadata": {},
   "source": [
    "### SampleSelection\n",
    "\n",
    "Recibe la imagen, el vector de clases, el archivo de stats de clases, el nombre de la clase (“id”), la estrategia de muestreo (smallest hace undersampling). Devuelve el porcentaje de observaciones por clase y los píxeles que van a ser muestreados.\n",
    "\n",
    "El archivo samples.sqlite puede ser subido a un depósito de Storage y descargado en nuestra computadora para ser abierto en QGIS como un archivo vectorial (son puntos). "
   ]
  },
  {
   "cell_type": "code",
   "execution_count": 6,
   "metadata": {},
   "outputs": [
    {
     "name": "stdout",
     "output_type": "stream",
     "text": [
      "bash -c 'source ~/OTB-7.2.0-Linux64/otbenv.profile; otbcli_SampleSelection -in /home/hg_storage_one/images/results/0000000000-0000010496_ndvi.tif                        -vec /home/hg_storage_one/data/verdad_campo.shp                        -instats /home/hg_storage_one/results/classes_stat.xml                        -field id                        -strategy smallest                        -outrates /home/hg_storage_one/results/rates.csv                        -out /home/hg_storage_one/results/samples.sqlite'\n"
     ]
    }
   ],
   "source": [
    "cmd = \"\"\"bash -c 'source ~/OTB-7.2.0-Linux64/otbenv.profile; otbcli_SampleSelection -in {image} \\\n",
    "                       -vec {base}/data/verdad_campo.shp \\\n",
    "                       -instats {classes_stat_filename} \\\n",
    "                       -field id \\\n",
    "                       -strategy smallest \\\n",
    "                       -outrates {rates_filename} \\\n",
    "                       -out {samples_db}'\"\"\".format(image= image, base=base, classes_stat_filename= classes_stat_filename, rates_filename= rates_filename, samples_db=samples_db)\n",
    "print(cmd)\n",
    "#subprocess.run(cmd, shell=True)"
   ]
  },
  {
   "cell_type": "code",
   "execution_count": 41,
   "metadata": {},
   "outputs": [
    {
     "name": "stdout",
     "output_type": "stream",
     "text": [
      "#className requiredSamples totalSamples rate\n",
      "1\t2\t107\t0.0186916\n",
      "10\t2\t2\t1\n",
      "2\t2\t79\t0.0253165\n",
      "20\t2\t2\t1\n",
      "3\t2\t60\t0.0333333\n",
      "4\t2\t34\t0.0588235\n",
      "5\t2\t9\t0.222222\n"
     ]
    }
   ],
   "source": [
    "!cat {rates_filename}"
   ]
  },
  {
   "cell_type": "markdown",
   "metadata": {},
   "source": [
    "### SampleExtraction\n",
    "\n"
   ]
  },
  {
   "cell_type": "code",
   "execution_count": 7,
   "metadata": {},
   "outputs": [
    {
     "name": "stdout",
     "output_type": "stream",
     "text": [
      "bash -c 'source ~/OTB-7.2.0-Linux64/otbenv.profile; otbcli_SampleExtraction -in /home/hg_storage_one/images/results/0000000000-0000010496_ndvi.tif                         -vec /home/hg_storage_one/results/samples.sqlite                         -outfield prefix                         -outfield.prefix.name band_                         -field id'\n"
     ]
    }
   ],
   "source": [
    "cmd = \"\"\"bash -c 'source ~/OTB-7.2.0-Linux64/otbenv.profile; otbcli_SampleExtraction -in {image} \\\n",
    "                        -vec {samples_db} \\\n",
    "                        -outfield prefix \\\n",
    "                        -outfield.prefix.name band_ \\\n",
    "                        -field id'\"\"\".format(image=image, base=base, samples_db=samples_db)\n",
    "print(cmd)\n",
    "#subprocess.run(cmd, shell=True)"
   ]
  },
  {
   "cell_type": "markdown",
   "metadata": {},
   "source": [
    "### ComputeImageStatistics"
   ]
  },
  {
   "cell_type": "code",
   "execution_count": 8,
   "metadata": {},
   "outputs": [
    {
     "name": "stdout",
     "output_type": "stream",
     "text": [
      "bash -c 'source ~/OTB-7.2.0-Linux64/otbenv.profile; otbcli_ComputeImagesStatistics -il  /home/hg_storage_one/images/results/0000000000-0000010496_ndvi.tif                                -out /home/hg_storage_one/results/images_stats.xml'\n"
     ]
    }
   ],
   "source": [
    "cmd = \"\"\"bash -c 'source ~/OTB-7.2.0-Linux64/otbenv.profile; otbcli_ComputeImagesStatistics -il  {image} \\\n",
    "                               -out {image_stats_filename}'\"\"\".format(image=image, image_stats_filename=image_stats_filename)\n",
    "\n",
    "print(cmd)\n",
    "#subprocess.run(cmd, shell=True)"
   ]
  },
  {
   "cell_type": "markdown",
   "metadata": {},
   "source": [
    "### TrainVectorClassifier"
   ]
  },
  {
   "cell_type": "code",
   "execution_count": 9,
   "metadata": {},
   "outputs": [
    {
     "name": "stdout",
     "output_type": "stream",
     "text": [
      "bash -c 'source ~/OTB-7.2.0-Linux64/otbenv.profile; otbcli_TrainVectorClassifier -io.vd /home/hg_storage_one/results/samples.sqlite \t\t\t     -io.stats /home/hg_storage_one/results/images_stats.xml                              -cfield id                              -classifier rf                              -classifier.rf.max 5                              -classifier.rf.nbtrees 150                              -io.out /home/hg_storage_one/results/model.txt                              -io.confmatout /home/hg_storage_one/results/confusion_matrix_RF.csv                              -feat band_0 band_1 band_2 band_3 band_4 band_5'\n"
     ]
    }
   ],
   "source": [
    "cmd = \"\"\"bash -c 'source ~/OTB-7.2.0-Linux64/otbenv.profile; otbcli_TrainVectorClassifier -io.vd {samples_db} \\\n",
    "\t\t\t     -io.stats {image_stats_filename} \\\n",
    "                             -cfield id \\\n",
    "                             -classifier rf \\\n",
    "                             -classifier.rf.max 5 \\\n",
    "                             -classifier.rf.nbtrees 150 \\\n",
    "                             -io.out {model_filename} \\\n",
    "                             -io.confmatout {cm_filename} \\\n",
    "                             -feat band_0 band_1 band_2 band_3 band_4 band_5'\"\"\".format(samples_db=samples_db, image_stats_filename=image_stats_filename, model_filename=model_filename,\n",
    "                                                                                       cm_filename= cm_filename)\n",
    "print(cmd)\n",
    "#subprocess.run(cmd, shell=True)"
   ]
  },
  {
   "cell_type": "markdown",
   "metadata": {},
   "source": [
    "### ImageClassifier"
   ]
  },
  {
   "cell_type": "code",
   "execution_count": 10,
   "metadata": {},
   "outputs": [
    {
     "name": "stdout",
     "output_type": "stream",
     "text": [
      "bash -c 'source ~/OTB-7.2.0-Linux64/otbenv.profile; otbcli_ImageClassifier -in /home/hg_storage_one/images/results/0000000000-0000010496_ndvi.tif                         -imstat /home/hg_storage_one/results/images_stats.xml                        -model /home/hg_storage_one/results/model.txt                        -out /home/hg_storage_one/results/0000000000-0000010496_ndvi_predict.tif'\n"
     ]
    },
    {
     "data": {
      "text/plain": [
       "CompletedProcess(args=\"bash -c 'source ~/OTB-7.2.0-Linux64/otbenv.profile; otbcli_ImageClassifier -in /home/hg_storage_one/images/results/0000000000-0000010496_ndvi.tif                         -imstat /home/hg_storage_one/results/images_stats.xml                        -model /home/hg_storage_one/results/model.txt                        -out /home/hg_storage_one/results/0000000000-0000010496_ndvi_predict.tif'\", returncode=0)"
      ]
     },
     "execution_count": 10,
     "metadata": {},
     "output_type": "execute_result"
    }
   ],
   "source": [
    "cmd = \"\"\"bash -c 'source ~/OTB-7.2.0-Linux64/otbenv.profile; otbcli_ImageClassifier -in {image}  \\\n",
    "                       -imstat {image_stats_filename} \\\n",
    "                       -model {model_filename} \\\n",
    "                       -out {predict_filename}'\"\"\".format(image=image, image_stats_filename=image_stats_filename, model_filename=model_filename,\n",
    "                                                                                       predict_filename= predict_filename)\n",
    "print(cmd)\n",
    "subprocess.run(cmd, shell=True)"
   ]
  },
  {
   "cell_type": "markdown",
   "metadata": {},
   "source": [
    "### ImageClassifier"
   ]
  },
  {
   "cell_type": "code",
   "execution_count": 11,
   "metadata": {},
   "outputs": [
    {
     "name": "stdout",
     "output_type": "stream",
     "text": [
      "bash -c 'source ~/OTB-7.2.0-Linux64/otbenv.profile; otbcli_ImageClassifier -in /home/hg_storage_one/images/results/0000000000-0000000000_ndvi.tif                         -imstat /home/hg_storage_one/results/images_stats.xml                        -model /home/hg_storage_one/results/model.txt                        -out /home/hg_storage_one/results/0000000000-0000000000_ndvi_predict.tif'\n"
     ]
    },
    {
     "data": {
      "text/plain": [
       "CompletedProcess(args=\"bash -c 'source ~/OTB-7.2.0-Linux64/otbenv.profile; otbcli_ImageClassifier -in /home/hg_storage_one/images/results/0000000000-0000000000_ndvi.tif                         -imstat /home/hg_storage_one/results/images_stats.xml                        -model /home/hg_storage_one/results/model.txt                        -out /home/hg_storage_one/results/0000000000-0000000000_ndvi_predict.tif'\", returncode=0)"
      ]
     },
     "execution_count": 11,
     "metadata": {},
     "output_type": "execute_result"
    }
   ],
   "source": [
    "cmd = \"\"\"bash -c 'source ~/OTB-7.2.0-Linux64/otbenv.profile; otbcli_ImageClassifier -in {image2}  \\\n",
    "                       -imstat {image_stats_filename} \\\n",
    "                       -model {model_filename} \\\n",
    "                       -out {predict_filename2}'\"\"\".format(image2=image2, image_stats_filename=image_stats_filename, model_filename=model_filename,\n",
    "                                                                                       predict_filename2= predict_filename2)\n",
    "print(cmd)\n",
    "subprocess.run(cmd, shell=True)"
   ]
  },
  {
   "cell_type": "markdown",
   "metadata": {},
   "source": [
    "### Unir resultados"
   ]
  },
  {
   "cell_type": "code",
   "execution_count": 12,
   "metadata": {},
   "outputs": [],
   "source": [
    "!gdal_merge.py -ot UInt32 -o {results_merge_filename} {predict_filename} {predict_filename2}\n",
    "\n",
    "#!gdal_translate -ot UInt32 {results_merge_filename_temp} {results_merge_filename}\n"
   ]
  },
  {
   "cell_type": "markdown",
   "metadata": {},
   "source": [
    "### Armo raster por cultivo"
   ]
  },
  {
   "cell_type": "code",
   "execution_count": 13,
   "metadata": {},
   "outputs": [],
   "source": [
    "!gdal_calc.py \\\n",
    "-A {results_merge_filename} \\\n",
    "--A_band=1 \\\n",
    "--calc=\"(((A==1) | (A==4))*1)+((A!=1) & (A!=4))*0\" \\\n",
    "--outfile {results_merge_soja_filename}\n"
   ]
  },
  {
   "cell_type": "code",
   "execution_count": 14,
   "metadata": {},
   "outputs": [],
   "source": [
    "!gdal_calc.py \\\n",
    "-A {results_merge_filename} \\\n",
    "--A_band=1 \\\n",
    "--calc=\"(((A==2) | (A==3))*1)+((A!=2) & (A!=3))*0\" \\\n",
    "--outfile {results_merge_maiz_filename}"
   ]
  },
  {
   "cell_type": "code",
   "execution_count": 15,
   "metadata": {},
   "outputs": [],
   "source": [
    "!gdal_calc.py \\\n",
    "-A {results_merge_filename} \\\n",
    "--A_band=1 \\\n",
    "--calc=\"(A==5)*1+(A!=5)*0\" \\\n",
    "--outfile {results_merge_girasol_filename}"
   ]
  },
  {
   "cell_type": "markdown",
   "metadata": {},
   "source": [
    "### Recortamos por cultivo y departamento"
   ]
  },
  {
   "cell_type": "code",
   "execution_count": 16,
   "metadata": {},
   "outputs": [],
   "source": [
    "#ROQUE SAENZ PEÑA\n",
    "!gdalwarp -cutline {base}/data/departamentos_rsp.shp -crop_to_cutline  {results_merge_soja_filename} {results_merge_soja_rsp_filename}\n",
    "!gdalwarp -cutline {base}/data/departamentos_rsp.shp -crop_to_cutline  {results_merge_maiz_filename} {results_merge_maiz_rsp_filename}\n",
    "\n",
    "#GENERAL ROCA\n",
    "!gdalwarp -cutline {base}/data/departamentos_roca.shp -crop_to_cutline  {results_merge_soja_filename} {results_merge_soja_roca_filename}\n",
    "!gdalwarp -cutline {base}/data/departamentos_roca.shp -crop_to_cutline  {results_merge_maiz_filename} {results_merge_maiz_roca_filename}\n",
    "\n",
    "#GENERAL VILLEGAS\n",
    "!gdalwarp -cutline {base}/data/departamentos_villegas.shp -crop_to_cutline {results_merge_soja_filename} {results_merge_soja_villegas_filename}\n",
    "!gdalwarp -cutline {base}/data/departamentos_villegas.shp -crop_to_cutline  {results_merge_maiz_filename} {results_merge_maiz_villegas_filename}"
   ]
  },
  {
   "cell_type": "markdown",
   "metadata": {},
   "source": [
    "### Resultados"
   ]
  },
  {
   "cell_type": "code",
   "execution_count": 19,
   "metadata": {},
   "outputs": [],
   "source": [
    "def sum_pixels(file):\n",
    "    raster = rio.open(file).read()\n",
    "    raster_crop = raster[raster==1]\n",
    "    sum_pixels = raster_crop.sum()\n",
    "    return sum_pixels\n",
    "\n",
    "\n",
    "def report(rsp_soja, rsp_maiz, roca_soja, roca_maiz, vil_soja, vil_maiz):\n",
    "    rsp_soja = sum_pixels(rsp_soja)\n",
    "    rsp_maiz = sum_pixels(rsp_maiz)\n",
    "    roca_soja = sum_pixels(roca_soja)\n",
    "    roca_maiz = sum_pixels(roca_maiz)\n",
    "    villegas_soja = sum_pixels(vil_soja)\n",
    "    villegas_maiz = sum_pixels(vil_maiz)\n",
    "    \n",
    "    pixel_to_ha = 0.04\n",
    "\n",
    "    final_results = [['Departamento', 'Pixeles Maíz', 'Pixeles Soja', 'Hectareas Maíz', 'Hectareas Soja'],\n",
    "                     ['Roque Saenz Peña', rsp_maiz, rsp_soja, rsp_maiz*pixel_to_ha, rsp_soja*pixel_to_ha ],\n",
    "                     ['General Roca', roca_maiz, roca_soja, roca_maiz*pixel_to_ha, roca_soja*pixel_to_ha],\n",
    "                     ['General Villegas', villegas_maiz, villegas_soja, villegas_maiz*pixel_to_ha, villegas_soja*pixel_to_ha]]\n",
    "    \n",
    "    print(tabulate(final_results))"
   ]
  },
  {
   "cell_type": "code",
   "execution_count": 20,
   "metadata": {},
   "outputs": [
    {
     "name": "stdout",
     "output_type": "stream",
     "text": [
      "----------------  ------------  ------------  ------------------  ------------------\n",
      "Departamento      Pixeles Maíz  Pixeles Soja  Hectareas Maíz      Hectareas Soja\n",
      "Roque Saenz Peña  2262190       13451018      90487.6             538040.72\n",
      "General Roca      6550238       29020461      262009.52000000002  1160818.44\n",
      "General Villegas  1050793       2991460       42031.72            119658.40000000001\n",
      "----------------  ------------  ------------  ------------------  ------------------\n"
     ]
    }
   ],
   "source": [
    "report(results_merge_soja_rsp_filename, \n",
    "       results_merge_maiz_rsp_filename, \n",
    "       results_merge_soja_roca_filename, \n",
    "       results_merge_maiz_roca_filename, \n",
    "       results_merge_soja_villegas_filename, \n",
    "       results_merge_maiz_villegas_filename)"
   ]
  },
  {
   "cell_type": "code",
   "execution_count": null,
   "metadata": {},
   "outputs": [],
   "source": []
  }
 ],
 "metadata": {
  "kernelspec": {
   "display_name": "Python 3",
   "language": "python",
   "name": "python3"
  },
  "language_info": {
   "codemirror_mode": {
    "name": "ipython",
    "version": 3
   },
   "file_extension": ".py",
   "mimetype": "text/x-python",
   "name": "python",
   "nbconvert_exporter": "python",
   "pygments_lexer": "ipython3",
   "version": "3.8.5"
  }
 },
 "nbformat": 4,
 "nbformat_minor": 4
}
